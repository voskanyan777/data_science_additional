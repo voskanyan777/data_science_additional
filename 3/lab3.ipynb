{
 "cells": [
  {
   "cell_type": "markdown",
   "id": "fb12118f2c75ee3e",
   "metadata": {
    "collapsed": false
   },
   "source": [
    "№3\n",
    " Задание №1\n",
    "  "
   ]
  },
  {
   "cell_type": "code",
   "execution_count": 144,
   "id": "c0dc867ac2217e4d",
   "metadata": {
    "ExecuteTime": {
     "end_time": "2024-01-11T17:43:20.206549400Z",
     "start_time": "2024-01-11T17:43:20.190940300Z"
    },
    "collapsed": false
   },
   "outputs": [],
   "source": [
    "import numpy as np\n",
    "from scipy import stats\n",
    "from statsmodels.stats.diagnostic import lilliefors"
   ]
  },
  {
   "cell_type": "code",
   "execution_count": 145,
   "id": "a63ba32feee715c9",
   "metadata": {
    "ExecuteTime": {
     "end_time": "2024-01-11T17:43:20.363039500Z",
     "start_time": "2024-01-11T17:43:20.213550600Z"
    },
    "collapsed": false
   },
   "outputs": [],
   "source": [
    "sample1 = np.random.normal(loc=0, scale=1, size=100)\n",
    "sample2 = np.random.normal(loc=0, scale=1, size=100)\n",
    "\n",
    "sample3 = np.random.normal(loc=0, scale=1, size=100)\n",
    "sample4 = np.random.exponential(size=100)\n",
    "\n",
    "sample5 = stats.binom.rvs(10, .5, size=100)\n",
    "sample6 = stats.uniform.rvs(0, 1, size=100)"
   ]
  },
  {
   "cell_type": "markdown",
   "id": "b9ae162dd47d4014",
   "metadata": {
    "collapsed": false
   },
   "source": [
    "Выдвинем и проверим на заданном уровне значимости 𝛼 для каждой \n",
    "пары выборок гипотезы\n",
    "\n",
    "a) О равенстве двух дисперсий "
   ]
  },
  {
   "cell_type": "code",
   "execution_count": 146,
   "id": "59b1db9894e5ace6",
   "metadata": {
    "ExecuteTime": {
     "end_time": "2024-01-11T17:43:20.366041600Z",
     "start_time": "2024-01-11T17:43:20.231500300Z"
    },
    "collapsed": false
   },
   "outputs": [],
   "source": [
    "alpha = 0.05 #Уровень значимости\n",
    "\n",
    "variance1 = np.var(sample1, ddof=1)\n",
    "variance2 = np.var(sample2, ddof=1)"
   ]
  },
  {
   "cell_type": "markdown",
   "id": "a5126150855658a0",
   "metadata": {
    "collapsed": false
   },
   "source": [
    "Выполним проверку выборок на нормальность с помощью критерия Шаппиро\n"
   ]
  },
  {
   "cell_type": "code",
   "execution_count": 147,
   "id": "2c74b78434eb401c",
   "metadata": {
    "ExecuteTime": {
     "end_time": "2024-01-11T17:43:20.442388700Z",
     "start_time": "2024-01-11T17:43:20.257395Z"
    },
    "collapsed": false
   },
   "outputs": [],
   "source": [
    "def normal_check(sample):\n",
    "    _, p_value = stats.shapiro(sample)\n",
    "    if p_value < alpha:\n",
    "        return False\n",
    "    else:\n",
    "        return True"
   ]
  },
  {
   "cell_type": "markdown",
   "id": "6fc133aa1a328935",
   "metadata": {
    "collapsed": false
   },
   "source": [
    "Выполним проверку гипотезы на равенство дисперсий"
   ]
  },
  {
   "cell_type": "code",
   "execution_count": 148,
   "id": "dd6057ce7f5d161e",
   "metadata": {
    "ExecuteTime": {
     "end_time": "2024-01-11T17:43:20.443389300Z",
     "start_time": "2024-01-11T17:43:20.261397200Z"
    },
    "collapsed": false
   },
   "outputs": [
    {
     "name": "stdout",
     "output_type": "stream",
     "text": [
      "Гипотеза о равенстве дисперсий не отклоняется\n",
      "Гипотеза о равенстве дисперсий отклоняется\n",
      "Гипотеза о равенстве дисперсий отклоняется\n"
     ]
    }
   ],
   "source": [
    "samples = [[sample1, sample2], [sample3, sample4], [sample5, sample6]]\n",
    "def variance_check(samples):\n",
    "    for sample in samples:\n",
    "        if normal_check(sample[0]) and normal_check(sample[1]):\n",
    "            _, p_value = stats.bartlett(sample[0], sample[1])\n",
    "            if p_value < 0.05:\n",
    "                print(\"Гипотеза о равенстве дисперсий отклоняется\")\n",
    "            else:\n",
    "                print(\"Гипотеза о равенстве дисперсий не отклоняется\")\n",
    "        else:\n",
    "            _, p_value = stats.levene(sample[0], sample[1])\n",
    "            if p_value < 0.05:\n",
    "                print(\"Гипотеза о равенстве дисперсий отклоняется\")\n",
    "            else:\n",
    "                print(\"Гипотеза о равенстве дисперсий не отклоняется\")\n",
    "    \n",
    "variance_check(samples)"
   ]
  },
  {
   "cell_type": "markdown",
   "id": "9395ab773ac0c3c",
   "metadata": {
    "collapsed": false
   },
   "source": [
    "b) О равенстве двух выборочных средних\n",
    "Проверка выборок на нормальность с помощью критерия Шаппиро-Уилка"
   ]
  },
  {
   "cell_type": "code",
   "execution_count": 149,
   "id": "902d9e2f1e753f7b",
   "metadata": {
    "ExecuteTime": {
     "end_time": "2024-01-11T17:43:20.444390900Z",
     "start_time": "2024-01-11T17:43:20.306430100Z"
    },
    "collapsed": false
   },
   "outputs": [
    {
     "name": "stdout",
     "output_type": "stream",
     "text": [
      "Гипотеза о равенстве средних значений не отклоняется\n",
      "Гипотеза о равенстве средних значений отклоняется\n",
      "Гипотеза о равенстве средних значений отклоняется\n"
     ]
    }
   ],
   "source": [
    "def mean_check(samples):\n",
    "    for sample in samples:\n",
    "        if normal_check(sample[0]) and normal_check(sample[1]):\n",
    "            _, p_value = stats.ttest_ind(sample[0], sample[1])\n",
    "            if p_value < 0.05:\n",
    "                print(\"Гипотеза о равенстве средних значений отклоняется\")\n",
    "            else:\n",
    "                print(\"Гипотеза о равенстве средних значений не отклоняется\")\n",
    "        else:\n",
    "            _, p_value = stats.mannwhitneyu(sample[0], sample[1])\n",
    "            if p_value < 0.05:\n",
    "                print(\"Гипотеза о равенстве средних значений отклоняется\")\n",
    "            else:\n",
    "                print(\"Гипотеза о равенстве средних значений не отклоняется\")\n",
    "    \n",
    "mean_check(samples)"
   ]
  },
  {
   "cell_type": "markdown",
   "id": "8eb0ec9116dfb825",
   "metadata": {
    "collapsed": false
   },
   "source": [
    "Здание №2"
   ]
  },
  {
   "cell_type": "code",
   "execution_count": 150,
   "id": "257a24280d3f63c",
   "metadata": {
    "ExecuteTime": {
     "end_time": "2024-01-11T17:43:20.444390900Z",
     "start_time": "2024-01-11T17:43:20.340031200Z"
    },
    "collapsed": false
   },
   "outputs": [],
   "source": [
    "N_values = [100, 300, 500, 1000] \n",
    "num_samples = 1000 \n",
    "normal_samples = stats.norm.rvs(size=10)\n",
    "expon_samples = stats.expon.rvs(size=10)"
   ]
  },
  {
   "cell_type": "markdown",
   "id": "99429bab0ead2122",
   "metadata": {
    "collapsed": false
   },
   "source": [
    "Функции для вычисления мощности критерия"
   ]
  },
  {
   "cell_type": "code",
   "execution_count": 151,
   "id": "9aaa9da20d621b7b",
   "metadata": {
    "ExecuteTime": {
     "end_time": "2024-01-11T17:43:20.447389900Z",
     "start_time": "2024-01-11T17:43:20.373044200Z"
    },
    "collapsed": false
   },
   "outputs": [],
   "source": [
    "def calculate_ks_power(n, distribution=stats.norm, alt_distribution=stats.norm, alpha=0.05, iterations=1000, **dist_params):\n",
    "    power = 0\n",
    "    for _ in range(iterations):\n",
    "        sample = alt_distribution.rvs(size=n, **dist_params)\n",
    "        _, p_value = stats.kstest(sample, distribution.cdf)\n",
    "        if p_value < alpha:\n",
    "            power += 1\n",
    "    return power / iterations\n",
    "\n",
    "def calculate_anderson_power(n, distribution=stats.norm, alt_distribution=stats.norm, alpha=0.05, iterations=1000, **dist_params):\n",
    "    power = 0\n",
    "    for _ in range(iterations):\n",
    "        sample = alt_distribution.rvs(size=n, **dist_params)\n",
    "        \n",
    "        result = stats.anderson(sample, dist=distribution.name)\n",
    "        \n",
    "        test_statistic = result.statistic\n",
    "\n",
    "        if test_statistic > result.critical_values[2]:  # Выбрано критическое значение для уровня значимости 0.05\n",
    "            power += 1\n",
    "    \n",
    "    power = power / iterations\n",
    "    \n",
    "    return power\n",
    "\n",
    "def calculate_sw_power(n, alt_distribution=stats.norm, alpha=0.05, iterations=1000, **dist_params):\n",
    "    power = 0\n",
    "    for _ in range(iterations):\n",
    "        sample = alt_distribution.rvs(size=n, **dist_params)\n",
    "        _, p_value = stats.shapiro(sample)\n",
    "        if p_value < alpha:\n",
    "            power += 1\n",
    "    return power / iterations\n",
    "\n",
    "def calculate_lil_power(n, alt_distribution=stats.norm, alpha=0.05, iterations=1000, **dist_params):\n",
    "    power = 0\n",
    "    for _ in range(iterations):\n",
    "\n",
    "        sample = alt_distribution.rvs(size=n, **dist_params)\n",
    "        _, p_value = lilliefors(sample)\n",
    "        if p_value < alpha:\n",
    "            power += 1\n",
    "    return power / iterations"
   ]
  },
  {
   "cell_type": "markdown",
   "id": "8735b576999e7f44",
   "metadata": {
    "collapsed": false
   },
   "source": [
    "Для нормального распределения"
   ]
  },
  {
   "cell_type": "code",
   "execution_count": 152,
   "id": "4a6e4fb553dceb7c",
   "metadata": {
    "ExecuteTime": {
     "end_time": "2024-01-11T17:43:32.366922900Z",
     "start_time": "2024-01-11T17:43:20.405675400Z"
    },
    "collapsed": false
   },
   "outputs": [
    {
     "name": "stdout",
     "output_type": "stream",
     "text": [
      "Для выборок размером 100\n",
      "Для нормального распределения\n",
      "Метод Anderson-Darling:\n",
      "Статистика: 0.20900258066924948\n",
      "Критические значения: [0.555 0.632 0.759 0.885 1.053]\n",
      "Уровни значимости: [15.  10.   5.   2.5  1. ]\n",
      "Мощность критерия Anderson-Darling:  0.833\n",
      "----------------------------\n",
      "Метод Lilliefors:\n",
      "Статистика: 0.04891507052328936\n",
      "p-значения: 0.8053594166239361\n",
      "Мощность критерия Lilliefors:  0.72\n",
      "----------------------------\n",
      "Метод Kolmogorov-Smirnov:\n",
      "Статистика: 0.07089282018289678\n",
      "p-значения: 0.6696155454186286\n",
      "Мощность критерия Kolmogorov-Smirnov:  0.081\n",
      "----------------------------\n",
      "Метод Shapiro-Wilk:\n",
      "Статистика: 0.9945318102836609\n",
      "p-значения: 0.9611434936523438\n",
      "Мощность критерия Shapiro-Wilk:  0.809\n",
      "----------------------------\n",
      "Для выборок размером 300\n",
      "Для нормального распределения\n",
      "Метод Anderson-Darling:\n",
      "Статистика: 0.3964340695154789\n",
      "Критические значения: [0.555 0.632 0.759 0.885 1.053]\n",
      "Уровни значимости: [15.  10.   5.   2.5  1. ]\n",
      "Мощность критерия Anderson-Darling:  0.999\n",
      "----------------------------\n",
      "Метод Lilliefors:\n",
      "Статистика: 0.055268778961349074\n",
      "p-значения: 0.6377437497626733\n",
      "Мощность критерия Lilliefors:  0.986\n",
      "----------------------------\n",
      "Метод Kolmogorov-Smirnov:\n",
      "Статистика: 0.09213436898467564\n",
      "p-значения: 0.3428413149336408\n",
      "Мощность критерия Kolmogorov-Smirnov:  0.238\n",
      "----------------------------\n",
      "Метод Shapiro-Wilk:\n",
      "Статистика: 0.9822549223899841\n",
      "p-значения: 0.19842642545700073\n",
      "Мощность критерия Shapiro-Wilk:  0.998\n",
      "----------------------------\n",
      "Для выборок размером 500\n",
      "Для нормального распределения\n",
      "Метод Anderson-Darling:\n",
      "Статистика: 0.5444666892425687\n",
      "Критические значения: [0.555 0.632 0.759 0.885 1.053]\n",
      "Уровни значимости: [15.  10.   5.   2.5  1. ]\n",
      "Мощность критерия Anderson-Darling:  1.0\n",
      "----------------------------\n",
      "Метод Lilliefors:\n",
      "Статистика: 0.08007413879688308\n",
      "p-значения: 0.12251847297212651\n",
      "Мощность критерия Lilliefors:  1.0\n",
      "----------------------------\n",
      "Метод Kolmogorov-Smirnov:\n",
      "Статистика: 0.08317313477661747\n",
      "p-значения: 0.4685532467415817\n",
      "Мощность критерия Kolmogorov-Smirnov:  0.561\n",
      "----------------------------\n",
      "Метод Shapiro-Wilk:\n",
      "Статистика: 0.9800361394882202\n",
      "p-значения: 0.1337978094816208\n",
      "Мощность критерия Shapiro-Wilk:  1.0\n",
      "----------------------------\n",
      "Для выборок размером 1000\n",
      "Для нормального распределения\n",
      "Метод Anderson-Darling:\n",
      "Статистика: 0.34310125669499314\n",
      "Критические значения: [0.555 0.632 0.759 0.885 1.053]\n",
      "Уровни значимости: [15.  10.   5.   2.5  1. ]\n",
      "Мощность критерия Anderson-Darling:  1.0\n",
      "----------------------------\n",
      "Метод Lilliefors:\n",
      "Статистика: 0.05668582234345934\n",
      "p-значения: 0.5974635828563721\n",
      "Мощность критерия Lilliefors:  1.0\n",
      "----------------------------\n",
      "Метод Kolmogorov-Smirnov:\n",
      "Статистика: 0.08359669841087461\n",
      "p-значения: 0.4621049288360075\n",
      "Мощность критерия Kolmogorov-Smirnov:  0.98\n",
      "----------------------------\n",
      "Метод Shapiro-Wilk:\n",
      "Статистика: 0.9887063503265381\n",
      "p-значения: 0.5616501569747925\n",
      "Мощность критерия Shapiro-Wilk:  1.0\n",
      "----------------------------\n"
     ]
    }
   ],
   "source": [
    "for N in N_values:\n",
    "    for _ in range(1000):\n",
    "        normal_samples = stats.norm.rvs(size = 100)\n",
    "    print(f\"Для выборок размером {N}\")\n",
    "    norm_ad_stat, norm_ad_critical_values, norm_ad_significance_levels = stats.anderson(normal_samples)\n",
    "    norm_lf_stat, norm_lf_p_values = lilliefors(normal_samples)\n",
    "    norm_ks_stat, norm_ks_p_values = stats.kstest(normal_samples, 'norm')\n",
    "    norm_sw_stat, norm_sw_p_values = stats.shapiro(normal_samples)\n",
    "    \n",
    "    print(\"Для нормального распределения\")\n",
    "    \n",
    "    print(\"Метод Anderson-Darling:\")\n",
    "    print(\"Статистика:\", norm_ad_stat)\n",
    "    print(\"Критические значения:\", norm_ad_critical_values)\n",
    "    print(\"Уровни значимости:\", norm_ad_significance_levels)\n",
    "    norm_ad_power = calculate_anderson_power(N, alt_distribution=stats.laplace, alpha=alpha, iterations=1000)\n",
    "    print(\"Мощность критерия Anderson-Darling: \", norm_ad_power)\n",
    "    print(\"-\" * 20)\n",
    "    \n",
    "    print(\"Метод Lilliefors:\")\n",
    "    print(\"Статистика:\", norm_lf_stat)\n",
    "    print(\"p-значения:\", norm_lf_p_values)\n",
    "    norm_lf_power = calculate_lil_power(N, alt_distribution=stats.laplace, alpha=alpha, iterations=1000)\n",
    "    print(\"Мощность критерия Lilliefors: \", norm_lf_power)\n",
    "    print(\"-\" * 20)\n",
    "    \n",
    "    print(\"Метод Kolmogorov-Smirnov:\")\n",
    "    print(\"Статистика:\", norm_ks_stat)\n",
    "    print(\"p-значения:\", norm_ks_p_values)\n",
    "    norm_ks_power = calculate_ks_power(N, alt_distribution=stats.laplace, alpha=alpha, iterations=1000)\n",
    "    print(\"Мощность критерия Kolmogorov-Smirnov: \", norm_ks_power)\n",
    "    print(\"-\" * 20)\n",
    "    \n",
    "    print(\"Метод Shapiro-Wilk:\")\n",
    "    print(\"Статистика:\", norm_sw_stat)\n",
    "    print(\"p-значения:\", norm_sw_p_values)\n",
    "    norm_sw_power = calculate_sw_power(N, alt_distribution=stats.laplace, alpha=alpha, iterations=1000)\n",
    "    print(\"Мощность критерия Shapiro-Wilk: \", norm_sw_power)\n",
    "    print(\"-\" * 20)\n"
   ]
  },
  {
   "cell_type": "markdown",
   "id": "5b87afc67a635d0d",
   "metadata": {
    "collapsed": false
   },
   "source": [
    "Для экспоненциального распределения"
   ]
  },
  {
   "cell_type": "code",
   "execution_count": 153,
   "id": "e1fd02f9974a41a8",
   "metadata": {
    "ExecuteTime": {
     "end_time": "2024-01-11T17:43:41.517100700Z",
     "start_time": "2024-01-11T17:43:32.378925400Z"
    },
    "collapsed": false
   },
   "outputs": [
    {
     "name": "stdout",
     "output_type": "stream",
     "text": [
      "Для выборок размером 100\n",
      "Для экспоненциального распределения\n",
      "Метод Anderson-Darling:\n",
      "Статистика: 0.30126155251100784\n",
      "Критические значения: [0.555 0.632 0.759 0.885 1.053]\n",
      "Уровни значимости: [15.  10.   5.   2.5  1. ]\n",
      "Мощность критерия Anderson-Darling:  0.831\n",
      "----------------------------\n",
      "Метод Lilliefors:\n",
      "Статистика: 0.05780710540841333\n",
      "p-значения: 0.5655905508971847\n",
      "Мощность критерия Lilliefors:  0.714\n",
      "----------------------------\n",
      "Метод Kolmogorov-Smirnov:\n",
      "Статистика: 0.5455130285179957\n",
      "p-значения: 1.969164093217698e-28\n",
      "Мощность критерия Kolmogorov-Smirnov:  1.0\n",
      "----------------------------\n",
      "Метод Shapiro-Wilk:\n",
      "Статистика: 0.9912046194076538\n",
      "p-значения: 0.7610797882080078\n",
      "Мощность критерия Shapiro-Wilk:  0.797\n",
      "----------------------------\n",
      "Для выборок размером 300\n",
      "Для экспоненциального распределения\n",
      "Метод Anderson-Darling:\n",
      "Статистика: 0.3974067751138932\n",
      "Критические значения: [0.555 0.632 0.759 0.885 1.053]\n",
      "Уровни значимости: [15.  10.   5.   2.5  1. ]\n",
      "Мощность критерия Anderson-Darling:  0.999\n",
      "----------------------------\n",
      "Метод Lilliefors:\n",
      "Статистика: 0.08039097282953733\n",
      "p-значения: 0.11821711863470208\n",
      "Мощность критерия Lilliefors:  0.983\n",
      "----------------------------\n",
      "Метод Kolmogorov-Smirnov:\n",
      "Статистика: 0.45\n",
      "p-значения: 5.324995419657099e-19\n",
      "Мощность критерия Kolmogorov-Smirnov:  1.0\n",
      "----------------------------\n",
      "Метод Shapiro-Wilk:\n",
      "Статистика: 0.9884902238845825\n",
      "p-значения: 0.5450265407562256\n",
      "Мощность критерия Shapiro-Wilk:  0.999\n",
      "----------------------------\n",
      "Для выборок размером 500\n",
      "Для экспоненциального распределения\n",
      "Метод Anderson-Darling:\n",
      "Статистика: 0.550287505019881\n",
      "Критические значения: [0.555 0.632 0.759 0.885 1.053]\n",
      "Уровни значимости: [15.  10.   5.   2.5  1. ]\n",
      "Мощность критерия Anderson-Darling:  1.0\n",
      "----------------------------\n",
      "Метод Lilliefors:\n",
      "Статистика: 0.05850408259921802\n",
      "p-значения: 0.5457786256379245\n",
      "Мощность критерия Lilliefors:  1.0\n",
      "----------------------------\n",
      "Метод Kolmogorov-Smirnov:\n",
      "Статистика: 0.54\n",
      "p-значения: 8.032546727914933e-28\n",
      "Мощность критерия Kolmogorov-Smirnov:  1.0\n",
      "----------------------------\n",
      "Метод Shapiro-Wilk:\n",
      "Статистика: 0.9813613891601562\n",
      "p-значения: 0.16947652399539948\n",
      "Мощность критерия Shapiro-Wilk:  1.0\n",
      "----------------------------\n",
      "Для выборок размером 1000\n",
      "Для экспоненциального распределения\n",
      "Метод Anderson-Darling:\n",
      "Статистика: 0.35904634035756544\n",
      "Критические значения: [0.555 0.632 0.759 0.885 1.053]\n",
      "Уровни значимости: [15.  10.   5.   2.5  1. ]\n",
      "Мощность критерия Anderson-Darling:  1.0\n",
      "----------------------------\n",
      "Метод Lilliefors:\n",
      "Статистика: 0.062340071926043794\n",
      "p-значения: 0.4473595491219039\n",
      "Мощность критерия Lilliefors:  1.0\n",
      "----------------------------\n",
      "Метод Kolmogorov-Smirnov:\n",
      "Статистика: 0.47\n",
      "p-значения: 8.779664887060241e-21\n",
      "Мощность критерия Kolmogorov-Smirnov:  1.0\n",
      "----------------------------\n",
      "Метод Shapiro-Wilk:\n",
      "Статистика: 0.9848264455795288\n",
      "p-значения: 0.30855172872543335\n",
      "Мощность критерия Shapiro-Wilk:  1.0\n",
      "----------------------------\n"
     ]
    }
   ],
   "source": [
    "for N in N_values:\n",
    "    for _ in range(1000):\n",
    "        expon_samples = stats.norm.rvs(size = 100)\n",
    "    print(f\"Для выборок размером {N}\")\n",
    "    ex_ad_stat, ex_ad_critical_values, ex_ad_significance_levels = stats.anderson(expon_samples)\n",
    "    ex_lf_stat, ex_lf_p_values = lilliefors(expon_samples)\n",
    "    ex_ks_stat, ex_ks_p_values = stats.kstest(expon_samples, \"expon\")\n",
    "    ex_sw_stat, ex_sw_p_values = stats.shapiro(expon_samples)\n",
    "    \n",
    "    print(\"Для экспоненциального распределения\")\n",
    "    print(\"Метод Anderson-Darling:\")\n",
    "    print(\"Статистика:\", ex_ad_stat)\n",
    "    print(\"Критические значения:\", ex_ad_critical_values)\n",
    "    print(\"Уровни значимости:\", ex_ad_significance_levels)\n",
    "    ex_ad_power = calculate_anderson_power(N, alt_distribution=stats.laplace, alpha=alpha, iterations=1000)\n",
    "    print(\"Мощность критерия Anderson-Darling: \", ex_ad_power)\n",
    "    print(\"-\" * 20)\n",
    "    \n",
    "    print(\"Метод Lilliefors:\")\n",
    "    print(\"Статистика:\", ex_lf_stat)\n",
    "    print(\"p-значения:\", ex_lf_p_values)\n",
    "    ex_sw_power = calculate_lil_power(N, alt_distribution=stats.laplace, alpha=alpha, iterations=1000)\n",
    "    print(\"Мощность критерия Lilliefors: \", ex_sw_power)\n",
    "    print(\"-\" * 20)\n",
    "    \n",
    "    print(\"Метод Kolmogorov-Smirnov:\")\n",
    "    print(\"Статистика:\", ex_ks_stat)\n",
    "    print(\"p-значения:\", ex_ks_p_values)\n",
    "    ex_ks_power = calculate_ks_power(N, distribution=stats.expon, alt_distribution=stats.laplace, alpha=alpha, iterations=1000)\n",
    "    print(\"Мощность критерия Kolmogorov-Smirnov: \", ex_ks_power)\n",
    "    print(\"-\" * 20)\n",
    "    \n",
    "    print(\"Метод Shapiro-Wilk:\")\n",
    "    print(\"Статистика:\", ex_sw_stat)\n",
    "    print(\"p-значения:\", ex_sw_p_values)\n",
    "    ex_sw_power = calculate_sw_power(N, alt_distribution=stats.laplace, alpha=alpha, iterations=1000)\n",
    "    print(\"Мощность критерия Shapiro-Wilk: \", ex_sw_power)\n",
    "    print(\"-\" * 20)\n",
    "    "
   ]
  },
  {
   "cell_type": "markdown",
   "id": "8f8d8c704e26eaef",
   "metadata": {
    "collapsed": false
   },
   "source": [
    "Мощность критерия зависит от вида распределения, размера выборки и метода\n",
    "\n",
    "Вывод: изучены методы проверки статистических гипотез"
   ]
  }
 ],
 "metadata": {
  "kernelspec": {
   "display_name": "Python 3",
   "language": "python",
   "name": "python3"
  },
  "language_info": {
   "codemirror_mode": {
    "name": "ipython",
    "version": 2
   },
   "file_extension": ".py",
   "mimetype": "text/x-python",
   "name": "python",
   "nbconvert_exporter": "python",
   "pygments_lexer": "ipython2",
   "version": "2.7.6"
  }
 },
 "nbformat": 4,
 "nbformat_minor": 5
}
