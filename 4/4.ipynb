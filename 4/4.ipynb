{
 "cells": [
  {
   "cell_type": "code",
   "execution_count": 1,
   "metadata": {},
   "outputs": [],
   "source": [
    "import numpy as np\n",
    "from scipy.stats import skew, kurtosis\n",
    "import pandas as pd\n",
    "from pprint import pprint"
   ]
  },
  {
   "cell_type": "markdown",
   "metadata": {},
   "source": [
    "Задание 1"
   ]
  },
  {
   "cell_type": "markdown",
   "metadata": {},
   "source": [
    "Пункт 1"
   ]
  },
  {
   "cell_type": "code",
   "execution_count": 2,
   "metadata": {},
   "outputs": [],
   "source": [
    "# инициализация выборок с распределениями\n",
    "sample_1 = np.random.normal(size=1000)\n",
    "sample_2 = np.random.exponential(size=1000)\n",
    "sample_3 = np.random.uniform(size=1000)\n",
    "sample_4 = np.random.binomial(size=1000, n=10, p=0.5)\n",
    "\n",
    "samples = [sample_1, sample_2, sample_3, sample_4]"
   ]
  },
  {
   "cell_type": "markdown",
   "metadata": {},
   "source": [
    "Пункт 2"
   ]
  },
  {
   "cell_type": "code",
   "execution_count": 5,
   "metadata": {},
   "outputs": [
    {
     "name": "stdout",
     "output_type": "stream",
     "text": [
      "{'дисперсия': 0.9945870464207858,\n",
      " 'квантиль 0.25': -0.6324099721225044,\n",
      " 'квантиль 0.27': 0.7250398830044752,\n",
      " 'коэфф ассиметрии': -0.06078653139467069,\n",
      " 'коэфф эксцесса': -0.06832102600200862,\n",
      " 'максимум': 3.0281479598098926,\n",
      " 'мат ожидание': 0.045701567356269235,\n",
      " 'медиана': 0.06088858954919052,\n",
      " 'минимум': -3.410764366827064,\n",
      " 'размах': 6.438912326636957,\n",
      " 'распределение': 'нормальное',\n",
      " 'стандартное отклонение': 0.9972898507559304}\n",
      "\n",
      "\n",
      "{'дисперсия': 1.1092064584143047,\n",
      " 'квантиль 0.25': 0.313397827478919,\n",
      " 'квантиль 0.27': 1.4591284740709354,\n",
      " 'коэфф ассиметрии': 2.0350589959486873,\n",
      " 'коэфф эксцесса': 6.5150287518602426,\n",
      " 'максимум': 8.937446324824123,\n",
      " 'мат ожидание': 1.0697115746844588,\n",
      " 'медиана': 0.7626939845735694,\n",
      " 'минимум': 0.0009675137919694168,\n",
      " 'размах': 8.936478811032153,\n",
      " 'распределение': 'экспоненциальное',\n",
      " 'стандартное отклонение': 1.0531887097829642}\n",
      "\n",
      "\n",
      "{'дисперсия': 0.08005982742584912,\n",
      " 'квантиль 0.25': 0.25895973085325596,\n",
      " 'квантиль 0.27': 0.7226440869896289,\n",
      " 'коэфф ассиметрии': 0.035378439769366485,\n",
      " 'коэфф эксцесса': -1.1033182698115627,\n",
      " 'максимум': 0.9988055977148782,\n",
      " 'мат ожидание': 0.4922659152763439,\n",
      " 'медиана': 0.4876780704164534,\n",
      " 'минимум': 0.0010437681871267035,\n",
      " 'размах': 0.9977618295277515,\n",
      " 'распределение': 'равномерное',\n",
      " 'стандартное отклонение': 0.28294845365516513}\n",
      "\n",
      "\n",
      "{'дисперсия': 2.4139839999999997,\n",
      " 'квантиль 0.25': 4.0,\n",
      " 'квантиль 0.27': 6.0,\n",
      " 'коэфф ассиметрии': 0.12023863075012471,\n",
      " 'коэфф эксцесса': -0.354360659048651,\n",
      " 'максимум': 9,\n",
      " 'мат ожидание': 4.996,\n",
      " 'медиана': 5.0,\n",
      " 'минимум': 1,\n",
      " 'размах': 8,\n",
      " 'распределение': 'биномиальное',\n",
      " 'стандартное отклонение': 1.5537000997618555}\n",
      "\n",
      "\n"
     ]
    }
   ],
   "source": [
    "sample_1_info = {'распределение': 'нормальное'}\n",
    "sample_2_info = {'распределение': 'экспоненциальное'}\n",
    "sample_3_info = {'распределение': 'равномерное'}\n",
    "sample_4_info = {'распределение': 'биномиальное'}\n",
    "\n",
    "samples_info = [sample_1_info, sample_2_info, sample_3_info, sample_4_info]\n",
    "\n",
    "for i in range(len(samples)):\n",
    "    samples_info[i]['минимум'] = np.min(samples[i])\n",
    "    samples_info[i]['максимум'] = np.max(samples[i])\n",
    "    samples_info[i]['мат ожидание'] = np.mean(samples[i])\n",
    "    samples_info[i]['дисперсия'] = np.var(samples[i])\n",
    "    samples_info[i]['стандартное отклонение'] = np.std(samples[i])\n",
    "    samples_info[i]['квантиль 0.25'] = np.quantile(samples[i], 0.25)\n",
    "    samples_info[i]['квантиль 0.27'] = np.quantile(samples[i], 0.75)\n",
    "    samples_info[i]['размах'] = samples_info[i]['максимум'] - samples_info[i]['минимум']\n",
    "    samples_info[i]['медиана'] = np.quantile(samples[i], 0.5)\n",
    "    samples_info[i]['коэфф ассиметрии'] = skew(samples[i])\n",
    "    samples_info[i]['коэфф эксцесса'] = kurtosis(samples[i])\n",
    "    pprint(samples_info[i])\n",
    "    print('\\n')"
   ]
  },
  {
   "cell_type": "markdown",
   "metadata": {},
   "source": [
    "Пункт 3"
   ]
  },
  {
   "cell_type": "code",
   "execution_count": 6,
   "metadata": {},
   "outputs": [],
   "source": [
    "# Создаем dataframe\n",
    "data_frame = pd.DataFrame(data=samples_info)"
   ]
  },
  {
   "cell_type": "markdown",
   "metadata": {},
   "source": [
    "Пункт 4"
   ]
  },
  {
   "cell_type": "code",
   "execution_count": 7,
   "metadata": {},
   "outputs": [],
   "source": [
    "# Сохранение dataframe\n",
    "data_frame.to_csv('task_1.csv', index=False, sep='\\t', header=True, encoding='utf-8')"
   ]
  },
  {
   "cell_type": "markdown",
   "metadata": {},
   "source": [
    "Задание 2"
   ]
  },
  {
   "cell_type": "code",
   "execution_count": 8,
   "metadata": {},
   "outputs": [
    {
     "name": "stdout",
     "output_type": "stream",
     "text": [
      "<class 'pandas.core.frame.DataFrame'>\n",
      "RangeIndex: 891 entries, 0 to 890\n",
      "Data columns (total 12 columns):\n",
      " #   Column       Non-Null Count  Dtype  \n",
      "---  ------       --------------  -----  \n",
      " 0   PassengerId  891 non-null    int64  \n",
      " 1   Survived     891 non-null    int64  \n",
      " 2   Pclass       891 non-null    int64  \n",
      " 3   Name         891 non-null    object \n",
      " 4   Sex          891 non-null    object \n",
      " 5   Age          714 non-null    float64\n",
      " 6   SibSp        891 non-null    int64  \n",
      " 7   Parch        891 non-null    int64  \n",
      " 8   Ticket       891 non-null    object \n",
      " 9   Fare         891 non-null    float64\n",
      " 10  Cabin        204 non-null    object \n",
      " 11  Embarked     889 non-null    object \n",
      "dtypes: float64(2), int64(5), object(5)\n",
      "memory usage: 83.7+ KB\n",
      "       PassengerId    Survived      Pclass         Age       SibSp  \\\n",
      "count   891.000000  891.000000  891.000000  714.000000  891.000000   \n",
      "mean    446.000000    0.383838    2.308642   29.699118    0.523008   \n",
      "std     257.353842    0.486592    0.836071   14.526497    1.102743   \n",
      "min       1.000000    0.000000    1.000000    0.420000    0.000000   \n",
      "25%     223.500000    0.000000    2.000000   20.125000    0.000000   \n",
      "50%     446.000000    0.000000    3.000000   28.000000    0.000000   \n",
      "75%     668.500000    1.000000    3.000000   38.000000    1.000000   \n",
      "max     891.000000    1.000000    3.000000   80.000000    8.000000   \n",
      "\n",
      "            Parch        Fare  \n",
      "count  891.000000  891.000000  \n",
      "mean     0.381594   32.204208  \n",
      "std      0.806057   49.693429  \n",
      "min      0.000000    0.000000  \n",
      "25%      0.000000    7.910400  \n",
      "50%      0.000000   14.454200  \n",
      "75%      0.000000   31.000000  \n",
      "max      6.000000  512.329200  \n",
      "             Survived  Pclass                                  Name  Sex  \\\n",
      "PassengerId                                                                \n",
      "631                 1       1  Barkworth, Mr. Algernon Henry Wilson    0   \n",
      "852                 0       3                   Svensson, Mr. Johan    0   \n",
      "97                  0       1             Goldschmidt, Mr. George B    0   \n",
      "494                 0       1               Artagaveytia, Mr. Ramon    0   \n",
      "117                 0       3                  Connors, Mr. Patrick    0   \n",
      "746                 0       1          Crosby, Capt. Edward Gifford    0   \n",
      "673                 0       2           Mitchell, Mr. Henry Michael    0   \n",
      "34                  0       2                 Wheadon, Mr. Edward H    0   \n",
      "457                 0       1             Millet, Mr. Francis Davis    0   \n",
      "281                 0       3                      Duane, Mr. Frank    0   \n",
      "\n",
      "              Age  SibSp  Parch      Ticket     Fare Cabin Embarked  \n",
      "PassengerId                                                          \n",
      "631          80.0      0      0       27042  30.0000   A23        S  \n",
      "852          74.0      0      0      347060   7.7750   NaN        S  \n",
      "97           71.0      0      0    PC 17754  34.6542    A5        C  \n",
      "494          71.0      0      0    PC 17609  49.5042   NaN        C  \n",
      "117          70.5      0      0      370369   7.7500   NaN        Q  \n",
      "746          70.0      1      1   WE/P 5735  71.0000   B22        S  \n",
      "673          70.0      0      0  C.A. 24580  10.5000   NaN        S  \n",
      "34           66.0      0      0  C.A. 24579  10.5000   NaN        S  \n",
      "457          65.0      0      0       13509  26.5500   E38        S  \n",
      "281          65.0      0      0      336439   7.7500   NaN        Q  \n",
      "             Survived  Pclass  \\\n",
      "PassengerId                     \n",
      "698                 1       3   \n",
      "129                 1       3   \n",
      "432                 1       3   \n",
      "301                 1       3   \n",
      "181                 0       3   \n",
      "187                 1       3   \n",
      "670                 1       1   \n",
      "458                 1       1   \n",
      "654                 1       3   \n",
      "167                 1       1   \n",
      "\n",
      "                                                          Name  Sex  Age  \\\n",
      "PassengerId                                                                \n",
      "698                           Mullens, Miss. Katherine \"Katie\"    1  NaN   \n",
      "129                                          Peter, Miss. Anna    1  NaN   \n",
      "432          Thorneycroft, Mrs. Percival (Florence Kate White)    1  NaN   \n",
      "301                   Kelly, Miss. Anna Katherine \"Annie Kate\"    1  NaN   \n",
      "181                               Sage, Miss. Constance Gladys    1  NaN   \n",
      "187            O'Brien, Mrs. Thomas (Johanna \"Hannah\" Godfrey)    1  NaN   \n",
      "670          Taylor, Mrs. Elmer Zebley (Juliet Cummins Wright)    1  NaN   \n",
      "458                          Kenyon, Mrs. Frederick R (Marion)    1  NaN   \n",
      "654                              O'Leary, Miss. Hanora \"Norah\"    1  NaN   \n",
      "167                     Chibnall, Mrs. (Edith Martha Bowerman)    1  NaN   \n",
      "\n",
      "             SibSp  Parch    Ticket     Fare  Cabin Embarked  \n",
      "PassengerId                                                   \n",
      "698              0      0     35852   7.7333    NaN        Q  \n",
      "129              1      1      2668  22.3583  F E69        C  \n",
      "432              1      0    376564  16.1000    NaN        S  \n",
      "301              0      0      9234   7.7500    NaN        Q  \n",
      "181              8      2  CA. 2343  69.5500    NaN        S  \n",
      "187              1      0    370365  15.5000    NaN        Q  \n",
      "670              1      0     19996  52.0000   C126        S  \n",
      "458              1      0     17464  51.8625    D21        S  \n",
      "654              0      0    330919   7.8292    NaN        Q  \n",
      "167              0      1    113505  55.0000    E33        S  \n"
     ]
    }
   ],
   "source": [
    "# Пункт 1\n",
    "titanic_data_frame = pd.read_csv('titanic.csv')\n",
    "\n",
    "# Пункт 2\n",
    "titanic_data_frame.info()\n",
    "print(titanic_data_frame.describe())\n",
    "\n",
    "# Пункт 3\n",
    "titanic_data_frame.set_index('PassengerId', inplace=True)\n",
    "\n",
    "# Пункт 4\n",
    "sex_mapping = {'male': 0, 'female': 1}\n",
    "titanic_data_frame['Sex'] = titanic_data_frame['Sex'].replace(sex_mapping)\n",
    "\n",
    "\n",
    "# Пункт 5\n",
    "\n",
    "# Сортировка столбцов\n",
    "titanic_data_frame = titanic_data_frame.sort_values(by='Sex', ascending=True)\n",
    "titanic_data_frame = titanic_data_frame.sort_values(by='Age', ascending=False)\n",
    "\n",
    "# Первые 10 строк\n",
    "print(titanic_data_frame.head(10))\n",
    "\n",
    "# Последние 10 строк\n",
    "print(titanic_data_frame.tail(10))\n",
    "\n",
    "# Пункт 6\n",
    "titanic_data_frame = titanic_data_frame.dropna()\n",
    "\n",
    "# Пункт 7\n",
    "titanic_data_frame.to_excel('prepared_task_2.xlsx')"
   ]
  }
 ],
 "metadata": {
  "kernelspec": {
   "display_name": "data_science",
   "language": "python",
   "name": "python3"
  },
  "language_info": {
   "codemirror_mode": {
    "name": "ipython",
    "version": 3
   },
   "file_extension": ".py",
   "mimetype": "text/x-python",
   "name": "python",
   "nbconvert_exporter": "python",
   "pygments_lexer": "ipython3",
   "version": "3.10.13"
  }
 },
 "nbformat": 4,
 "nbformat_minor": 2
}
